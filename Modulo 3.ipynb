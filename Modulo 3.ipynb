{
 "cells": [
  {
   "cell_type": "code",
   "execution_count": 4,
   "metadata": {},
   "outputs": [
    {
     "name": "stdout",
     "output_type": "stream",
     "text": [
      "Advertencia, un asteroide se acerca\n"
     ]
    }
   ],
   "source": [
    "velocidadAsteoride = 49\n",
    "velocidadAdvertencia = 25\n",
    "if velocidadAsteoride > velocidadAdvertencia:\n",
    "    print('Advertencia, un asteroide se acerca')\n",
    "else: \n",
    "    print('No se acerca asteoride')"
   ]
  },
  {
   "cell_type": "code",
   "execution_count": 7,
   "metadata": {},
   "outputs": [
    {
     "name": "stdout",
     "output_type": "stream",
     "text": [
      "No se acerca un rayo\n"
     ]
    }
   ],
   "source": [
    "velocidadAdvertencia = 20\n",
    "velocidadAsteoride = 19\n",
    "\n",
    "if velocidadAsteoride > velocidadAdvertencia:\n",
    "    print('Se acerca un rayo de luz por asteroide')\n",
    "elif velocidadAsteoride == 20:\n",
    "    print('Se acerca un rayo de luz por asteroide')\n",
    "else:\n",
    "    print('No se acerca un rayo')"
   ]
  },
  {
   "cell_type": "code",
   "execution_count": 12,
   "metadata": {},
   "outputs": [
    {
     "name": "stdout",
     "output_type": "stream",
     "text": [
      "Se acerca un rayo de luz por asteoride\n"
     ]
    }
   ],
   "source": [
    "velocidadAsteoride = 25\n",
    "tamanoAsteoride = 40\n",
    "velocidadAdvertenciaRayo = 20\n",
    "if velocidadAsteoride > 25 and tamanoAsteoride > 25:\n",
    "    print('Cuidado, un asteoride viene hacia la tierra')\n",
    "elif velocidadAsteoride >= velocidadAdvertenciaRayo:\n",
    "    print('Se acerca un rayo de luz por asteoride')\n",
    "elif tamanoAsteoride < velocidadAsteoride:\n",
    "    print('No se acerca nada')\n",
    "else:\n",
    "    print('No se acerca nada')\n"
   ]
  },
  {
   "cell_type": "markdown",
   "metadata": {},
   "source": [
    "Ejercicios realizados"
   ]
  },
  {
   "cell_type": "code",
   "execution_count": 35,
   "metadata": {},
   "outputs": [
    {
     "name": "stdout",
     "output_type": "stream",
     "text": [
      "¡Alerta! ¡Un asteroide se acerca a velocidades peligrosas!\n"
     ]
    }
   ],
   "source": [
    "asteroide = 49\n",
    "if asteroide > 25:\n",
    "    print('¡Alerta! ¡Un asteroide se acerca a velocidades peligrosas!')\n",
    "else:\n",
    "    print('¡Sigue con tu día!')"
   ]
  },
  {
   "cell_type": "code",
   "execution_count": 8,
   "metadata": {},
   "outputs": [
    {
     "name": "stdout",
     "output_type": "stream",
     "text": [
      "¡Nada que ver aquí!\n"
     ]
    }
   ],
   "source": [
    "asteroide = 19\n",
    "if asteroide > 20:\n",
    "    print('Look up! ¡Hay una luz mágica en el cielo!')\n",
    "elif asteroide == 20:\n",
    "    print('Look up! ¡Hay una luz mágica en el cielo!')\n",
    "else:\n",
    "    print('¡Nada que ver aquí!')"
   ]
  },
  {
   "cell_type": "code",
   "execution_count": 11,
   "metadata": {},
   "outputs": [
    {
     "name": "stdout",
     "output_type": "stream",
     "text": [
      "Look up! ¡Hay una luz mágica en el cielo!\n"
     ]
    }
   ],
   "source": [
    "velocidad_asteroide = 25\n",
    "tamano_asteroide = 40\n",
    "if velocidad_asteroide > 25 and tamano_asteroide > 25:\n",
    "    print('¡Alerta, Un asteroide muy peligroso viene hacia la Tierra!')\n",
    "elif velocidad_asteroide >= 20:\n",
    "    print('Look up! ¡Hay una luz mágica en el cielo!')\n",
    "elif tamano_asteroide < 25:\n",
    "    print('Nada que ver aquí :)')\n",
    "else:\n",
    "    print('Nada que ver aquí :)')"
   ]
  }
 ],
 "metadata": {
  "interpreter": {
   "hash": "9442b7544e53ebf7db47f805ea862482280c6beccf7e16b2f8eb390378bc7f6f"
  },
  "kernelspec": {
   "display_name": "Python 3.10.2 64-bit (windows store)",
   "language": "python",
   "name": "python3"
  },
  "language_info": {
   "codemirror_mode": {
    "name": "ipython",
    "version": 3
   },
   "file_extension": ".py",
   "mimetype": "text/x-python",
   "name": "python",
   "nbconvert_exporter": "python",
   "pygments_lexer": "ipython3",
   "version": "3.10.2"
  },
  "orig_nbformat": 4
 },
 "nbformat": 4,
 "nbformat_minor": 2
}
